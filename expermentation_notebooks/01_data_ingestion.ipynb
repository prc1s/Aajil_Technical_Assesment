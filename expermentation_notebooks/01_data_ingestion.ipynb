{
 "cells": [
  {
   "cell_type": "code",
   "execution_count": 2,
   "id": "ba0c039e",
   "metadata": {},
   "outputs": [
    {
     "data": {
      "text/plain": [
       "'/Users/hh/MLops/ajjil_technical_task/expermentation_notebooks'"
      ]
     },
     "execution_count": 2,
     "metadata": {},
     "output_type": "execute_result"
    }
   ],
   "source": [
    "import os\n",
    "%pwd"
   ]
  },
  {
   "cell_type": "code",
   "execution_count": 3,
   "id": "10a0d8ec",
   "metadata": {},
   "outputs": [
    {
     "data": {
      "text/plain": [
       "'/Users/hh/MLops/ajjil_technical_task'"
      ]
     },
     "execution_count": 3,
     "metadata": {},
     "output_type": "execute_result"
    }
   ],
   "source": [
    "os.chdir(\"../\")\n",
    "%pwd"
   ]
  },
  {
   "cell_type": "code",
   "execution_count": 3,
   "id": "5b5c1ecb",
   "metadata": {},
   "outputs": [],
   "source": [
    "from src.datascience.constants import *\n",
    "from src.datascience.utils.common import (read_yaml, create_directories)\n",
    "from src.datascience import logger"
   ]
  },
  {
   "cell_type": "code",
   "execution_count": null,
   "id": "2b0c00a7",
   "metadata": {},
   "outputs": [],
   "source": [
    "\n",
    "from dataclasses import dataclass\n",
    "from pathlib import Path\n",
    "import pandas as pd\n",
    "import json\n",
    "\n",
    "@dataclass\n",
    "class DataIngestionConfig:\n",
    "    root_dir: Path\n",
    "    source_file: Path\n",
    "    csv_name: str\n",
    "\n",
    "class DataIngestion:\n",
    "    def __init__(self, data_ingestion_config:DataIngestionConfig):\n",
    "        self.data_ingestion_config = data_ingestion_config\n",
    "    \n",
    "    def xlsx_to_csv(self):\n",
    "        try:\n",
    "            xlsx_data = pd.read_excel(Path(self.data_ingestion_config.source_file), sheet_name=0)\n",
    "            xlsx_data.to_csv(Path(self.data_ingestion_config.root_dir, self.data_ingestion_config.csv_name), index=False)\n",
    "        except Exception as e:\n",
    "            logger.exception(e)\n",
    "            raise e\n",
    "\n",
    "    "
   ]
  },
  {
   "cell_type": "code",
   "execution_count": 5,
   "id": "5096fa9e",
   "metadata": {},
   "outputs": [],
   "source": [
    "class ConfigurationManager:\n",
    "    def __init__(self,\n",
    "                 config_file_path=CONFIG_FILE_PATH):\n",
    "        self.config=read_yaml(config_file_path)\n",
    "        create_directories([self.config.artifacts_root])\n",
    "\n",
    "    def get_data_ingestion_config(self) -> DataIngestionConfig:\n",
    "        config=self.config.data_ingestion.save_csv\n",
    "        create_directories([config.root_dir])\n",
    "\n",
    "        data_ingestion_config=DataIngestionConfig(\n",
    "            root_dir=config.root_dir,\n",
    "            source_file=config.source_file,\n",
    "            csv_name=config.csv_name\n",
    "        )\n",
    "        return data_ingestion_config"
   ]
  },
  {
   "cell_type": "code",
   "execution_count": 7,
   "id": "5615fc5f",
   "metadata": {},
   "outputs": [
    {
     "name": "stdout",
     "output_type": "stream",
     "text": [
      "[2025-08-23 20:24:01,124: INFO: common: yaml file config/config.yaml is loaded successfully]\n",
      "[2025-08-23 20:24:01,125: INFO: common: created directory at artifacts]\n",
      "[2025-08-23 20:24:01,125: INFO: common: created directory at artifacts/data_ingestion]\n"
     ]
    }
   ],
   "source": [
    "obj = ConfigurationManager()\n",
    "data_ingestion = obj.get_data_ingestion_config()\n",
    "obj = DataIngestion(data_ingestion)\n",
    "obj.xlsx_to_csv()"
   ]
  },
  {
   "cell_type": "code",
   "execution_count": null,
   "id": "ff2bd175",
   "metadata": {},
   "outputs": [],
   "source": []
  },
  {
   "cell_type": "code",
   "execution_count": null,
   "id": "eaaefb00",
   "metadata": {},
   "outputs": [],
   "source": []
  }
 ],
 "metadata": {
  "kernelspec": {
   "display_name": "Python 3",
   "language": "python",
   "name": "python3"
  },
  "language_info": {
   "codemirror_mode": {
    "name": "ipython",
    "version": 3
   },
   "file_extension": ".py",
   "mimetype": "text/x-python",
   "name": "python",
   "nbconvert_exporter": "python",
   "pygments_lexer": "ipython3",
   "version": "3.11.0"
  }
 },
 "nbformat": 4,
 "nbformat_minor": 5
}
