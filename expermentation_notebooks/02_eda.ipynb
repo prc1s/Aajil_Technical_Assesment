{
 "cells": [
  {
   "cell_type": "code",
   "execution_count": 39,
   "id": "c2801952",
   "metadata": {},
   "outputs": [],
   "source": [
    "import pandas as pd\n",
    "import os\n",
    "import sys\n",
    "from pathlib import Path"
   ]
  },
  {
   "cell_type": "code",
   "execution_count": null,
   "id": "dee7a227",
   "metadata": {},
   "outputs": [
    {
     "data": {
      "text/plain": [
       "'/Users/hh/MLops/ajjil_technical_task'"
      ]
     },
     "execution_count": 40,
     "metadata": {},
     "output_type": "execute_result"
    }
   ],
   "source": [
    "os.chdir(\"../\")"
   ]
  },
  {
   "cell_type": "code",
   "execution_count": 50,
   "id": "78920a9a",
   "metadata": {},
   "outputs": [],
   "source": [
    "df = pd.read_csv(\"artifacts/data_ingestion/purchase-order-items.csv\")"
   ]
  },
  {
   "cell_type": "markdown",
   "id": "dd90a529",
   "metadata": {},
   "source": [
    "Basic structure\n",
    "\n",
    "How many rows & columns?\n",
    "\n",
    "What are the column names?\n",
    "\n",
    "Data types\n",
    "\n",
    "Which columns are numbers, text, or dates?\n",
    "\n",
    "Missing values\n",
    "\n",
    "Are there NaNs / blanks?\n",
    "\n",
    "Duplicates\n",
    "\n",
    "Any repeated rows or IDs?\n",
    "\n",
    "Text characteristics\n",
    "\n",
    "Item descriptions: languages present (English, Arabic, maybe mixed).\n",
    "\n",
    "Length of descriptions (short vs. long).\n",
    "\n",
    "Spend values\n",
    "\n",
    "Are there price/amount columns?\n",
    "\n",
    "What’s the range? Outliers?"
   ]
  },
  {
   "cell_type": "code",
   "execution_count": 42,
   "id": "e2a4e538",
   "metadata": {},
   "outputs": [
    {
     "data": {
      "text/html": [
       "<div>\n",
       "<style scoped>\n",
       "    .dataframe tbody tr th:only-of-type {\n",
       "        vertical-align: middle;\n",
       "    }\n",
       "\n",
       "    .dataframe tbody tr th {\n",
       "        vertical-align: top;\n",
       "    }\n",
       "\n",
       "    .dataframe thead th {\n",
       "        text-align: right;\n",
       "    }\n",
       "</style>\n",
       "<table border=\"1\" class=\"dataframe\">\n",
       "  <thead>\n",
       "    <tr style=\"text-align: right;\">\n",
       "      <th></th>\n",
       "      <th>Item ID</th>\n",
       "      <th>Item Name</th>\n",
       "      <th>Quantity</th>\n",
       "      <th>Total Bcy</th>\n",
       "      <th>Sub Total Bcy</th>\n",
       "      <th>Purchase Order ID</th>\n",
       "      <th>Product ID</th>\n",
       "      <th>Currency Code</th>\n",
       "      <th>Account ID</th>\n",
       "      <th>Tax ID</th>\n",
       "      <th>Project ID</th>\n",
       "    </tr>\n",
       "  </thead>\n",
       "  <tbody>\n",
       "    <tr>\n",
       "      <th>3145</th>\n",
       "      <td>3263831000016006011</td>\n",
       "      <td>ITTIFAQ STEEL 14mm, 12 meter</td>\n",
       "      <td>30.0</td>\n",
       "      <td>69000.0</td>\n",
       "      <td>69000.0</td>\n",
       "      <td>3263831000016006001</td>\n",
       "      <td>3.263831e+18</td>\n",
       "      <td>SAR</td>\n",
       "      <td>3263831000000034003</td>\n",
       "      <td>3.263831e+18</td>\n",
       "      <td>NaN</td>\n",
       "    </tr>\n",
       "    <tr>\n",
       "      <th>3146</th>\n",
       "      <td>3263831000016006009</td>\n",
       "      <td>ITTIFAQ STEEL 12mm, 12 meter</td>\n",
       "      <td>30.0</td>\n",
       "      <td>69000.0</td>\n",
       "      <td>69000.0</td>\n",
       "      <td>3263831000016006001</td>\n",
       "      <td>3.263831e+18</td>\n",
       "      <td>SAR</td>\n",
       "      <td>3263831000000034003</td>\n",
       "      <td>3.263831e+18</td>\n",
       "      <td>NaN</td>\n",
       "    </tr>\n",
       "    <tr>\n",
       "      <th>3147</th>\n",
       "      <td>3263831000016208289</td>\n",
       "      <td>حديد تسليح مجدول سعودي سابك 16 مم * 12 م</td>\n",
       "      <td>30.0</td>\n",
       "      <td>69000.0</td>\n",
       "      <td>69000.0</td>\n",
       "      <td>3263831000016208283</td>\n",
       "      <td>3.263831e+18</td>\n",
       "      <td>SAR</td>\n",
       "      <td>3263831000000034003</td>\n",
       "      <td>3.263831e+18</td>\n",
       "      <td>NaN</td>\n",
       "    </tr>\n",
       "    <tr>\n",
       "      <th>3148</th>\n",
       "      <td>3263831000016208285</td>\n",
       "      <td>حديد تسليح مجدول سعودي سابك 12 مم * 12 م</td>\n",
       "      <td>30.0</td>\n",
       "      <td>69000.0</td>\n",
       "      <td>69000.0</td>\n",
       "      <td>3263831000016208283</td>\n",
       "      <td>3.263831e+18</td>\n",
       "      <td>SAR</td>\n",
       "      <td>3263831000000034003</td>\n",
       "      <td>3.263831e+18</td>\n",
       "      <td>NaN</td>\n",
       "    </tr>\n",
       "    <tr>\n",
       "      <th>3149</th>\n",
       "      <td>3263831000018023011</td>\n",
       "      <td>حديد تسليح مجدول سعودي سابك 16 مم * 12 م</td>\n",
       "      <td>30.0</td>\n",
       "      <td>69000.0</td>\n",
       "      <td>69000.0</td>\n",
       "      <td>3263831000018023005</td>\n",
       "      <td>3.263831e+18</td>\n",
       "      <td>SAR</td>\n",
       "      <td>3263831000000034003</td>\n",
       "      <td>3.263831e+18</td>\n",
       "      <td>NaN</td>\n",
       "    </tr>\n",
       "  </tbody>\n",
       "</table>\n",
       "</div>"
      ],
      "text/plain": [
       "                  Item ID                                 Item Name  Quantity  \\\n",
       "3145  3263831000016006011              ITTIFAQ STEEL 14mm, 12 meter      30.0   \n",
       "3146  3263831000016006009              ITTIFAQ STEEL 12mm, 12 meter      30.0   \n",
       "3147  3263831000016208289  حديد تسليح مجدول سعودي سابك 16 مم * 12 م      30.0   \n",
       "3148  3263831000016208285  حديد تسليح مجدول سعودي سابك 12 مم * 12 م      30.0   \n",
       "3149  3263831000018023011  حديد تسليح مجدول سعودي سابك 16 مم * 12 م      30.0   \n",
       "\n",
       "      Total Bcy  Sub Total Bcy    Purchase Order ID    Product ID  \\\n",
       "3145    69000.0        69000.0  3263831000016006001  3.263831e+18   \n",
       "3146    69000.0        69000.0  3263831000016006001  3.263831e+18   \n",
       "3147    69000.0        69000.0  3263831000016208283  3.263831e+18   \n",
       "3148    69000.0        69000.0  3263831000016208283  3.263831e+18   \n",
       "3149    69000.0        69000.0  3263831000018023005  3.263831e+18   \n",
       "\n",
       "     Currency Code           Account ID        Tax ID  Project ID  \n",
       "3145           SAR  3263831000000034003  3.263831e+18         NaN  \n",
       "3146           SAR  3263831000000034003  3.263831e+18         NaN  \n",
       "3147           SAR  3263831000000034003  3.263831e+18         NaN  \n",
       "3148           SAR  3263831000000034003  3.263831e+18         NaN  \n",
       "3149           SAR  3263831000000034003  3.263831e+18         NaN  "
      ]
     },
     "execution_count": 42,
     "metadata": {},
     "output_type": "execute_result"
    }
   ],
   "source": [
    "df.tail()"
   ]
  },
  {
   "cell_type": "code",
   "execution_count": 43,
   "id": "44cbcbfb",
   "metadata": {},
   "outputs": [
    {
     "name": "stdout",
     "output_type": "stream",
     "text": [
      "<class 'pandas.core.frame.DataFrame'>\n",
      "RangeIndex: 3150 entries, 0 to 3149\n",
      "Data columns (total 11 columns):\n",
      " #   Column             Non-Null Count  Dtype  \n",
      "---  ------             --------------  -----  \n",
      " 0   Item ID            3150 non-null   int64  \n",
      " 1   Item Name          2910 non-null   object \n",
      " 2   Quantity           3150 non-null   float64\n",
      " 3   Total Bcy          3150 non-null   float64\n",
      " 4   Sub Total Bcy      3150 non-null   float64\n",
      " 5   Purchase Order ID  3150 non-null   int64  \n",
      " 6   Product ID         2910 non-null   float64\n",
      " 7   Currency Code      3150 non-null   object \n",
      " 8   Account ID         3150 non-null   int64  \n",
      " 9   Tax ID             3085 non-null   float64\n",
      " 10  Project ID         0 non-null      float64\n",
      "dtypes: float64(6), int64(3), object(2)\n",
      "memory usage: 270.8+ KB\n"
     ]
    }
   ],
   "source": [
    "df.info()"
   ]
  },
  {
   "cell_type": "code",
   "execution_count": 44,
   "id": "209d559b",
   "metadata": {},
   "outputs": [
    {
     "data": {
      "text/plain": [
       "Item ID                 0\n",
       "Item Name             240\n",
       "Quantity                0\n",
       "Total Bcy               0\n",
       "Sub Total Bcy           0\n",
       "Purchase Order ID       0\n",
       "Product ID            240\n",
       "Currency Code           0\n",
       "Account ID              0\n",
       "Tax ID                 65\n",
       "Project ID           3150\n",
       "dtype: int64"
      ]
     },
     "execution_count": 44,
     "metadata": {},
     "output_type": "execute_result"
    }
   ],
   "source": [
    "df.isnull().sum()\n"
   ]
  },
  {
   "cell_type": "code",
   "execution_count": 45,
   "id": "ef6451bc",
   "metadata": {},
   "outputs": [
    {
     "data": {
      "text/html": [
       "<div>\n",
       "<style scoped>\n",
       "    .dataframe tbody tr th:only-of-type {\n",
       "        vertical-align: middle;\n",
       "    }\n",
       "\n",
       "    .dataframe tbody tr th {\n",
       "        vertical-align: top;\n",
       "    }\n",
       "\n",
       "    .dataframe thead th {\n",
       "        text-align: right;\n",
       "    }\n",
       "</style>\n",
       "<table border=\"1\" class=\"dataframe\">\n",
       "  <thead>\n",
       "    <tr style=\"text-align: right;\">\n",
       "      <th></th>\n",
       "      <th>Item ID</th>\n",
       "      <th>Quantity</th>\n",
       "      <th>Total Bcy</th>\n",
       "      <th>Sub Total Bcy</th>\n",
       "      <th>Purchase Order ID</th>\n",
       "      <th>Product ID</th>\n",
       "      <th>Account ID</th>\n",
       "      <th>Tax ID</th>\n",
       "      <th>Project ID</th>\n",
       "    </tr>\n",
       "  </thead>\n",
       "  <tbody>\n",
       "    <tr>\n",
       "      <th>count</th>\n",
       "      <td>3.150000e+03</td>\n",
       "      <td>3150.000000</td>\n",
       "      <td>3.150000e+03</td>\n",
       "      <td>3.150000e+03</td>\n",
       "      <td>3.150000e+03</td>\n",
       "      <td>2.910000e+03</td>\n",
       "      <td>3.150000e+03</td>\n",
       "      <td>3.085000e+03</td>\n",
       "      <td>0.0</td>\n",
       "    </tr>\n",
       "    <tr>\n",
       "      <th>mean</th>\n",
       "      <td>3.263831e+18</td>\n",
       "      <td>475.470797</td>\n",
       "      <td>4.853890e+04</td>\n",
       "      <td>4.854089e+04</td>\n",
       "      <td>3.263831e+18</td>\n",
       "      <td>3.263831e+18</td>\n",
       "      <td>3.263831e+18</td>\n",
       "      <td>3.263831e+18</td>\n",
       "      <td>NaN</td>\n",
       "    </tr>\n",
       "    <tr>\n",
       "      <th>std</th>\n",
       "      <td>7.627889e+06</td>\n",
       "      <td>2737.024475</td>\n",
       "      <td>1.046032e+05</td>\n",
       "      <td>1.046032e+05</td>\n",
       "      <td>7.629406e+06</td>\n",
       "      <td>7.281517e+06</td>\n",
       "      <td>1.174301e+03</td>\n",
       "      <td>1.536249e+03</td>\n",
       "      <td>NaN</td>\n",
       "    </tr>\n",
       "    <tr>\n",
       "      <th>min</th>\n",
       "      <td>3.263831e+18</td>\n",
       "      <td>0.150000</td>\n",
       "      <td>0.000000e+00</td>\n",
       "      <td>0.000000e+00</td>\n",
       "      <td>3.263831e+18</td>\n",
       "      <td>3.263831e+18</td>\n",
       "      <td>3.263831e+18</td>\n",
       "      <td>3.263831e+18</td>\n",
       "      <td>NaN</td>\n",
       "    </tr>\n",
       "    <tr>\n",
       "      <th>25%</th>\n",
       "      <td>3.263831e+18</td>\n",
       "      <td>7.000000</td>\n",
       "      <td>2.001473e+03</td>\n",
       "      <td>2.001473e+03</td>\n",
       "      <td>3.263831e+18</td>\n",
       "      <td>3.263831e+18</td>\n",
       "      <td>3.263831e+18</td>\n",
       "      <td>3.263831e+18</td>\n",
       "      <td>NaN</td>\n",
       "    </tr>\n",
       "    <tr>\n",
       "      <th>50%</th>\n",
       "      <td>3.263831e+18</td>\n",
       "      <td>30.000000</td>\n",
       "      <td>1.235133e+04</td>\n",
       "      <td>1.237840e+04</td>\n",
       "      <td>3.263831e+18</td>\n",
       "      <td>3.263831e+18</td>\n",
       "      <td>3.263831e+18</td>\n",
       "      <td>3.263831e+18</td>\n",
       "      <td>NaN</td>\n",
       "    </tr>\n",
       "    <tr>\n",
       "      <th>75%</th>\n",
       "      <td>3.263831e+18</td>\n",
       "      <td>130.000000</td>\n",
       "      <td>5.599900e+04</td>\n",
       "      <td>5.599900e+04</td>\n",
       "      <td>3.263831e+18</td>\n",
       "      <td>3.263831e+18</td>\n",
       "      <td>3.263831e+18</td>\n",
       "      <td>3.263831e+18</td>\n",
       "      <td>NaN</td>\n",
       "    </tr>\n",
       "    <tr>\n",
       "      <th>max</th>\n",
       "      <td>3.263831e+18</td>\n",
       "      <td>70000.000000</td>\n",
       "      <td>1.519000e+06</td>\n",
       "      <td>1.519000e+06</td>\n",
       "      <td>3.263831e+18</td>\n",
       "      <td>3.263831e+18</td>\n",
       "      <td>3.263831e+18</td>\n",
       "      <td>3.263831e+18</td>\n",
       "      <td>NaN</td>\n",
       "    </tr>\n",
       "  </tbody>\n",
       "</table>\n",
       "</div>"
      ],
      "text/plain": [
       "            Item ID      Quantity     Total Bcy  Sub Total Bcy  \\\n",
       "count  3.150000e+03   3150.000000  3.150000e+03   3.150000e+03   \n",
       "mean   3.263831e+18    475.470797  4.853890e+04   4.854089e+04   \n",
       "std    7.627889e+06   2737.024475  1.046032e+05   1.046032e+05   \n",
       "min    3.263831e+18      0.150000  0.000000e+00   0.000000e+00   \n",
       "25%    3.263831e+18      7.000000  2.001473e+03   2.001473e+03   \n",
       "50%    3.263831e+18     30.000000  1.235133e+04   1.237840e+04   \n",
       "75%    3.263831e+18    130.000000  5.599900e+04   5.599900e+04   \n",
       "max    3.263831e+18  70000.000000  1.519000e+06   1.519000e+06   \n",
       "\n",
       "       Purchase Order ID    Product ID    Account ID        Tax ID  Project ID  \n",
       "count       3.150000e+03  2.910000e+03  3.150000e+03  3.085000e+03         0.0  \n",
       "mean        3.263831e+18  3.263831e+18  3.263831e+18  3.263831e+18         NaN  \n",
       "std         7.629406e+06  7.281517e+06  1.174301e+03  1.536249e+03         NaN  \n",
       "min         3.263831e+18  3.263831e+18  3.263831e+18  3.263831e+18         NaN  \n",
       "25%         3.263831e+18  3.263831e+18  3.263831e+18  3.263831e+18         NaN  \n",
       "50%         3.263831e+18  3.263831e+18  3.263831e+18  3.263831e+18         NaN  \n",
       "75%         3.263831e+18  3.263831e+18  3.263831e+18  3.263831e+18         NaN  \n",
       "max         3.263831e+18  3.263831e+18  3.263831e+18  3.263831e+18         NaN  "
      ]
     },
     "execution_count": 45,
     "metadata": {},
     "output_type": "execute_result"
    }
   ],
   "source": [
    "df.describe()"
   ]
  },
  {
   "cell_type": "code",
   "execution_count": 46,
   "id": "96950b99",
   "metadata": {},
   "outputs": [
    {
     "data": {
      "text/plain": [
       "Purchase Order ID\n",
       "3263831000017363001    99\n",
       "3263831000022471084    90\n",
       "3263831000009330075    87\n",
       "3263831000007223023    62\n",
       "3263831000016759017    59\n",
       "                       ..\n",
       "3263831000014050462     1\n",
       "3263831000014181028     1\n",
       "3263831000004821044     1\n",
       "3263831000014514047     1\n",
       "3263831000006506007     1\n",
       "Name: count, Length: 531, dtype: int64"
      ]
     },
     "execution_count": 46,
     "metadata": {},
     "output_type": "execute_result"
    }
   ],
   "source": [
    "df['Purchase Order ID'].value_counts()"
   ]
  },
  {
   "cell_type": "code",
   "execution_count": null,
   "id": "3b3e791d",
   "metadata": {},
   "outputs": [
    {
     "name": "stdout",
     "output_type": "stream",
     "text": [
      "Number of inconsistent groups: 401\n",
      "Purchase Order ID\n",
      "3263831000000089040    3\n",
      "3263831000000092040    6\n",
      "3263831000000097043    6\n",
      "3263831000000099094    4\n",
      "3263831000000101066    5\n",
      "Name: Total Bcy, dtype: int64\n"
     ]
    }
   ],
   "source": [
    "check = df.groupby(\"Purchase Order ID\")[\"Total Bcy\"].nunique()\n",
    "inconsistent = check[check > 1]\n",
    "print(\"Number of inconsistent groups:\", len(inconsistent))\n",
    "print(inconsistent.head())\n"
   ]
  },
  {
   "cell_type": "code",
   "execution_count": null,
   "id": "ce4bc4c3",
   "metadata": {},
   "outputs": [
    {
     "data": {
      "text/plain": [
       "Account ID\n",
       "3263831000000034003    3149\n",
       "3263831000000000409       1\n",
       "Name: count, dtype: int64"
      ]
     },
     "execution_count": 58,
     "metadata": {},
     "output_type": "execute_result"
    }
   ],
   "source": [
    "df['Account ID'].value_counts()"
   ]
  },
  {
   "cell_type": "code",
   "execution_count": 60,
   "id": "7bcb8a42",
   "metadata": {},
   "outputs": [
    {
     "data": {
      "text/plain": [
       "Product ID\n",
       "3.263831e+18    25\n",
       "3.263831e+18    22\n",
       "3.263831e+18    22\n",
       "3.263831e+18    21\n",
       "3.263831e+18    20\n",
       "                ..\n",
       "3.263831e+18     1\n",
       "3.263831e+18     1\n",
       "3.263831e+18     1\n",
       "3.263831e+18     1\n",
       "3.263831e+18     1\n",
       "Name: count, Length: 907, dtype: int64"
      ]
     },
     "execution_count": 60,
     "metadata": {},
     "output_type": "execute_result"
    }
   ],
   "source": [
    "df['Product ID'].value_counts()"
   ]
  },
  {
   "cell_type": "code",
   "execution_count": 59,
   "id": "b58bd7aa",
   "metadata": {},
   "outputs": [
    {
     "data": {
      "text/plain": [
       "Currency Code\n",
       "SAR    3085\n",
       "USD      65\n",
       "Name: count, dtype: int64"
      ]
     },
     "execution_count": 59,
     "metadata": {},
     "output_type": "execute_result"
    }
   ],
   "source": [
    "df['Currency Code'].value_counts()"
   ]
  },
  {
   "cell_type": "code",
   "execution_count": 51,
   "id": "4287b717",
   "metadata": {},
   "outputs": [
    {
     "data": {
      "text/plain": [
       "Tax ID\n",
       "3.263831e+18    3085\n",
       "Name: count, dtype: int64"
      ]
     },
     "execution_count": 51,
     "metadata": {},
     "output_type": "execute_result"
    }
   ],
   "source": [
    "df['Tax ID'].value_counts()"
   ]
  },
  {
   "cell_type": "code",
   "execution_count": 63,
   "id": "e52b7e84",
   "metadata": {},
   "outputs": [],
   "source": [
    "cleaned_df = df.drop(columns=['Purchase Order ID', 'Product ID', 'Account ID', 'Tax ID', 'Project ID', 'Item ID'])"
   ]
  },
  {
   "cell_type": "code",
   "execution_count": 65,
   "id": "830bc722",
   "metadata": {},
   "outputs": [
    {
     "data": {
      "text/html": [
       "<div>\n",
       "<style scoped>\n",
       "    .dataframe tbody tr th:only-of-type {\n",
       "        vertical-align: middle;\n",
       "    }\n",
       "\n",
       "    .dataframe tbody tr th {\n",
       "        vertical-align: top;\n",
       "    }\n",
       "\n",
       "    .dataframe thead th {\n",
       "        text-align: right;\n",
       "    }\n",
       "</style>\n",
       "<table border=\"1\" class=\"dataframe\">\n",
       "  <thead>\n",
       "    <tr style=\"text-align: right;\">\n",
       "      <th></th>\n",
       "      <th>Quantity</th>\n",
       "      <th>Total Bcy</th>\n",
       "      <th>Sub Total Bcy</th>\n",
       "    </tr>\n",
       "  </thead>\n",
       "  <tbody>\n",
       "    <tr>\n",
       "      <th>count</th>\n",
       "      <td>3150.000000</td>\n",
       "      <td>3.150000e+03</td>\n",
       "      <td>3.150000e+03</td>\n",
       "    </tr>\n",
       "    <tr>\n",
       "      <th>mean</th>\n",
       "      <td>475.470797</td>\n",
       "      <td>4.853890e+04</td>\n",
       "      <td>4.854089e+04</td>\n",
       "    </tr>\n",
       "    <tr>\n",
       "      <th>std</th>\n",
       "      <td>2737.024475</td>\n",
       "      <td>1.046032e+05</td>\n",
       "      <td>1.046032e+05</td>\n",
       "    </tr>\n",
       "    <tr>\n",
       "      <th>min</th>\n",
       "      <td>0.150000</td>\n",
       "      <td>0.000000e+00</td>\n",
       "      <td>0.000000e+00</td>\n",
       "    </tr>\n",
       "    <tr>\n",
       "      <th>25%</th>\n",
       "      <td>7.000000</td>\n",
       "      <td>2.001473e+03</td>\n",
       "      <td>2.001473e+03</td>\n",
       "    </tr>\n",
       "    <tr>\n",
       "      <th>50%</th>\n",
       "      <td>30.000000</td>\n",
       "      <td>1.235133e+04</td>\n",
       "      <td>1.237840e+04</td>\n",
       "    </tr>\n",
       "    <tr>\n",
       "      <th>75%</th>\n",
       "      <td>130.000000</td>\n",
       "      <td>5.599900e+04</td>\n",
       "      <td>5.599900e+04</td>\n",
       "    </tr>\n",
       "    <tr>\n",
       "      <th>max</th>\n",
       "      <td>70000.000000</td>\n",
       "      <td>1.519000e+06</td>\n",
       "      <td>1.519000e+06</td>\n",
       "    </tr>\n",
       "  </tbody>\n",
       "</table>\n",
       "</div>"
      ],
      "text/plain": [
       "           Quantity     Total Bcy  Sub Total Bcy\n",
       "count   3150.000000  3.150000e+03   3.150000e+03\n",
       "mean     475.470797  4.853890e+04   4.854089e+04\n",
       "std     2737.024475  1.046032e+05   1.046032e+05\n",
       "min        0.150000  0.000000e+00   0.000000e+00\n",
       "25%        7.000000  2.001473e+03   2.001473e+03\n",
       "50%       30.000000  1.235133e+04   1.237840e+04\n",
       "75%      130.000000  5.599900e+04   5.599900e+04\n",
       "max    70000.000000  1.519000e+06   1.519000e+06"
      ]
     },
     "execution_count": 65,
     "metadata": {},
     "output_type": "execute_result"
    }
   ],
   "source": [
    "cleaned_df.describe()"
   ]
  },
  {
   "cell_type": "code",
   "execution_count": null,
   "id": "2d6956bf",
   "metadata": {},
   "outputs": [
    {
     "data": {
      "text/html": [
       "<div>\n",
       "<style scoped>\n",
       "    .dataframe tbody tr th:only-of-type {\n",
       "        vertical-align: middle;\n",
       "    }\n",
       "\n",
       "    .dataframe tbody tr th {\n",
       "        vertical-align: top;\n",
       "    }\n",
       "\n",
       "    .dataframe thead th {\n",
       "        text-align: right;\n",
       "    }\n",
       "</style>\n",
       "<table border=\"1\" class=\"dataframe\">\n",
       "  <thead>\n",
       "    <tr style=\"text-align: right;\">\n",
       "      <th></th>\n",
       "      <th>Item ID</th>\n",
       "      <th>Item Name</th>\n",
       "      <th>Quantity</th>\n",
       "      <th>Total Bcy</th>\n",
       "      <th>Sub Total Bcy</th>\n",
       "      <th>Purchase Order ID</th>\n",
       "      <th>Product ID</th>\n",
       "      <th>Currency Code</th>\n",
       "      <th>Account ID</th>\n",
       "      <th>Tax ID</th>\n",
       "      <th>Project ID</th>\n",
       "    </tr>\n",
       "  </thead>\n",
       "  <tbody>\n",
       "    <tr>\n",
       "      <th>0</th>\n",
       "      <td>3263831000000089042</td>\n",
       "      <td>NaN</td>\n",
       "      <td>75.21</td>\n",
       "      <td>227510.25</td>\n",
       "      <td>227510.25</td>\n",
       "      <td>3263831000000089040</td>\n",
       "      <td>NaN</td>\n",
       "      <td>SAR</td>\n",
       "      <td>3263831000000034003</td>\n",
       "      <td>3.263831e+18</td>\n",
       "      <td>NaN</td>\n",
       "    </tr>\n",
       "    <tr>\n",
       "      <th>1</th>\n",
       "      <td>3263831000000089046</td>\n",
       "      <td>NaN</td>\n",
       "      <td>15.00</td>\n",
       "      <td>47250.00</td>\n",
       "      <td>47250.00</td>\n",
       "      <td>3263831000000089040</td>\n",
       "      <td>NaN</td>\n",
       "      <td>SAR</td>\n",
       "      <td>3263831000000034003</td>\n",
       "      <td>3.263831e+18</td>\n",
       "      <td>NaN</td>\n",
       "    </tr>\n",
       "    <tr>\n",
       "      <th>2</th>\n",
       "      <td>3263831000000089044</td>\n",
       "      <td>NaN</td>\n",
       "      <td>50.00</td>\n",
       "      <td>160000.00</td>\n",
       "      <td>160000.00</td>\n",
       "      <td>3263831000000089040</td>\n",
       "      <td>NaN</td>\n",
       "      <td>SAR</td>\n",
       "      <td>3263831000000034003</td>\n",
       "      <td>3.263831e+18</td>\n",
       "      <td>NaN</td>\n",
       "    </tr>\n",
       "    <tr>\n",
       "      <th>3</th>\n",
       "      <td>3263831000000092044</td>\n",
       "      <td>NaN</td>\n",
       "      <td>12.00</td>\n",
       "      <td>38280.00</td>\n",
       "      <td>38280.00</td>\n",
       "      <td>3263831000000092040</td>\n",
       "      <td>NaN</td>\n",
       "      <td>SAR</td>\n",
       "      <td>3263831000000034003</td>\n",
       "      <td>3.263831e+18</td>\n",
       "      <td>NaN</td>\n",
       "    </tr>\n",
       "    <tr>\n",
       "      <th>4</th>\n",
       "      <td>3263831000000092052</td>\n",
       "      <td>NaN</td>\n",
       "      <td>2.00</td>\n",
       "      <td>5900.00</td>\n",
       "      <td>5900.00</td>\n",
       "      <td>3263831000000092040</td>\n",
       "      <td>NaN</td>\n",
       "      <td>SAR</td>\n",
       "      <td>3263831000000034003</td>\n",
       "      <td>3.263831e+18</td>\n",
       "      <td>NaN</td>\n",
       "    </tr>\n",
       "  </tbody>\n",
       "</table>\n",
       "</div>"
      ],
      "text/plain": [
       "               Item ID Item Name  Quantity  Total Bcy  Sub Total Bcy  \\\n",
       "0  3263831000000089042       NaN     75.21  227510.25      227510.25   \n",
       "1  3263831000000089046       NaN     15.00   47250.00       47250.00   \n",
       "2  3263831000000089044       NaN     50.00  160000.00      160000.00   \n",
       "3  3263831000000092044       NaN     12.00   38280.00       38280.00   \n",
       "4  3263831000000092052       NaN      2.00    5900.00        5900.00   \n",
       "\n",
       "     Purchase Order ID  Product ID Currency Code           Account ID  \\\n",
       "0  3263831000000089040         NaN           SAR  3263831000000034003   \n",
       "1  3263831000000089040         NaN           SAR  3263831000000034003   \n",
       "2  3263831000000089040         NaN           SAR  3263831000000034003   \n",
       "3  3263831000000092040         NaN           SAR  3263831000000034003   \n",
       "4  3263831000000092040         NaN           SAR  3263831000000034003   \n",
       "\n",
       "         Tax ID  Project ID  \n",
       "0  3.263831e+18         NaN  \n",
       "1  3.263831e+18         NaN  \n",
       "2  3.263831e+18         NaN  \n",
       "3  3.263831e+18         NaN  \n",
       "4  3.263831e+18         NaN  "
      ]
     },
     "execution_count": 66,
     "metadata": {},
     "output_type": "execute_result"
    }
   ],
   "source": [
    "df[df['Item Name'].isnull()].head()"
   ]
  },
  {
   "cell_type": "code",
   "execution_count": 95,
   "id": "610845a3",
   "metadata": {},
   "outputs": [
    {
     "data": {
      "text/html": [
       "<div>\n",
       "<style scoped>\n",
       "    .dataframe tbody tr th:only-of-type {\n",
       "        vertical-align: middle;\n",
       "    }\n",
       "\n",
       "    .dataframe tbody tr th {\n",
       "        vertical-align: top;\n",
       "    }\n",
       "\n",
       "    .dataframe thead th {\n",
       "        text-align: right;\n",
       "    }\n",
       "</style>\n",
       "<table border=\"1\" class=\"dataframe\">\n",
       "  <thead>\n",
       "    <tr style=\"text-align: right;\">\n",
       "      <th></th>\n",
       "      <th>Quantity</th>\n",
       "      <th>Total Bcy</th>\n",
       "      <th>Sub Total Bcy</th>\n",
       "    </tr>\n",
       "  </thead>\n",
       "  <tbody>\n",
       "    <tr>\n",
       "      <th>count</th>\n",
       "      <td>240.000000</td>\n",
       "      <td>240.000000</td>\n",
       "      <td>240.000000</td>\n",
       "    </tr>\n",
       "    <tr>\n",
       "      <th>mean</th>\n",
       "      <td>1559.200875</td>\n",
       "      <td>63006.223125</td>\n",
       "      <td>63032.322417</td>\n",
       "    </tr>\n",
       "    <tr>\n",
       "      <th>std</th>\n",
       "      <td>6640.513722</td>\n",
       "      <td>72372.213970</td>\n",
       "      <td>72367.934825</td>\n",
       "    </tr>\n",
       "    <tr>\n",
       "      <th>min</th>\n",
       "      <td>1.000000</td>\n",
       "      <td>3.500000</td>\n",
       "      <td>3.500000</td>\n",
       "    </tr>\n",
       "    <tr>\n",
       "      <th>25%</th>\n",
       "      <td>10.000000</td>\n",
       "      <td>18997.000000</td>\n",
       "      <td>18997.000000</td>\n",
       "    </tr>\n",
       "    <tr>\n",
       "      <th>50%</th>\n",
       "      <td>30.000000</td>\n",
       "      <td>34760.000000</td>\n",
       "      <td>34984.500000</td>\n",
       "    </tr>\n",
       "    <tr>\n",
       "      <th>75%</th>\n",
       "      <td>200.000000</td>\n",
       "      <td>85125.000000</td>\n",
       "      <td>85125.000000</td>\n",
       "    </tr>\n",
       "    <tr>\n",
       "      <th>max</th>\n",
       "      <td>70000.000000</td>\n",
       "      <td>384000.000000</td>\n",
       "      <td>384000.000000</td>\n",
       "    </tr>\n",
       "  </tbody>\n",
       "</table>\n",
       "</div>"
      ],
      "text/plain": [
       "           Quantity      Total Bcy  Sub Total Bcy\n",
       "count    240.000000     240.000000     240.000000\n",
       "mean    1559.200875   63006.223125   63032.322417\n",
       "std     6640.513722   72372.213970   72367.934825\n",
       "min        1.000000       3.500000       3.500000\n",
       "25%       10.000000   18997.000000   18997.000000\n",
       "50%       30.000000   34760.000000   34984.500000\n",
       "75%      200.000000   85125.000000   85125.000000\n",
       "max    70000.000000  384000.000000  384000.000000"
      ]
     },
     "execution_count": 95,
     "metadata": {},
     "output_type": "execute_result"
    }
   ],
   "source": [
    "df[df['Item Name'].isnull()][['Quantity', 'Total Bcy', 'Sub Total Bcy', 'Currency Code']].describe()"
   ]
  },
  {
   "cell_type": "code",
   "execution_count": 96,
   "id": "32b919aa",
   "metadata": {},
   "outputs": [
    {
     "name": "stderr",
     "output_type": "stream",
     "text": [
      "/var/folders/1z/knshtkp96gv94c7gjtb06jkh0000gn/T/ipykernel_41540/1080818081.py:1: FutureWarning: A value is trying to be set on a copy of a DataFrame or Series through chained assignment using an inplace method.\n",
      "The behavior will change in pandas 3.0. This inplace method will never work because the intermediate object on which we are setting values always behaves as a copy.\n",
      "\n",
      "For example, when doing 'df[col].method(value, inplace=True)', try using 'df.method({col: value}, inplace=True)' or df[col] = df[col].method(value) instead, to perform the operation inplace on the original object.\n",
      "\n",
      "\n",
      "  df['Item Name'].fillna(\"Unknown Product\", inplace=True)\n"
     ]
    }
   ],
   "source": [
    "df['Item Name'].fillna(\"Unknown Product\", inplace=True)"
   ]
  },
  {
   "cell_type": "code",
   "execution_count": 98,
   "id": "2bfe4ba2",
   "metadata": {},
   "outputs": [
    {
     "data": {
      "text/plain": [
       "Item Name\n",
       "حديد كويل 9 مل                                                                                          1.099233e+06\n",
       "Crump Rubber                                                                                            1.094850e+06\n",
       "Ajeej Steel 14 mm - Shadeed                                                                             1.076100e+06\n",
       "m 9 coil - حديد كويل 9 ملم املس                                                                         9.552000e+05\n",
       "60 kVA / 48 kW 3 Battery Backup Uninterruptible Power Supply (UPS) And Power Conditioner                9.513000e+05\n",
       "Ovation Rêve E-3 IP Includes: Light Engine Only, IP PowerKON Power Cord - NO LENS TUBE Control: 5-pi    9.388692e+05\n",
       "G40 حديد مجلفن 8                                                                                        9.000000e+05\n",
       "Apply and Supply Reinforcement Steel Dim 16 mm                                                          8.160000e+05\n",
       "حديد كويل 11 مل                                                                                         7.846125e+05\n",
       "Ajeej Steel 16 mm - Shadeed                                                                             6.963000e+05\n",
       "Name: Total Bcy, dtype: float64"
      ]
     },
     "execution_count": 98,
     "metadata": {},
     "output_type": "execute_result"
    }
   ],
   "source": [
    "df.groupby('Item Name')['Total Bcy'].mean().sort_values(ascending=False).head(10)"
   ]
  },
  {
   "cell_type": "code",
   "execution_count": 104,
   "id": "1ff674b9",
   "metadata": {},
   "outputs": [
    {
     "name": "stdout",
     "output_type": "stream",
     "text": [
      "9.889952597308465\n"
     ]
    }
   ],
   "source": [
    "total_revenue = df['Total Bcy'].sum()\n",
    "unknown_revenue = df[df['Item Name'] == \"Unknown Product\"]['Total Bcy'].sum()\n",
    "percent_unknown = (unknown_revenue / total_revenue) * 100\n",
    "\n",
    "print(percent_unknown)"
   ]
  },
  {
   "cell_type": "code",
   "execution_count": null,
   "id": "a41e1967",
   "metadata": {},
   "outputs": [
    {
     "data": {
      "text/plain": [
       "count     3150.000000\n",
       "mean       475.470797\n",
       "std       2737.024475\n",
       "min          0.150000\n",
       "25%          7.000000\n",
       "50%         30.000000\n",
       "75%        130.000000\n",
       "max      70000.000000\n",
       "Name: Quantity, dtype: float64"
      ]
     },
     "execution_count": 70,
     "metadata": {},
     "output_type": "execute_result"
    }
   ],
   "source": [
    "df['Quantity'].describe()"
   ]
  },
  {
   "cell_type": "code",
   "execution_count": 107,
   "id": "a59936ed",
   "metadata": {},
   "outputs": [
    {
     "data": {
      "text/plain": [
       "<Axes: >"
      ]
     },
     "execution_count": 107,
     "metadata": {},
     "output_type": "execute_result"
    },
    {
     "data": {
      "image/png": "[encoded data removed]",
      "text/plain": [
       "<Figure size 640x480 with 1 Axes>"
      ]
     },
     "metadata": {},
     "output_type": "display_data"
    }
   ],
   "source": [
    "df['Quantity'].hist(bins=50, range=(0, 500))"
   ]
  },
  {
   "cell_type": "code",
   "execution_count": null,
   "id": "4fda90ee",
   "metadata": {},
   "outputs": [
    {
     "data": {
      "text/plain": [
       "<Axes: >"
      ]
     },
     "execution_count": 71,
     "metadata": {},
     "output_type": "execute_result"
    },
    {
     "data": {
      "image/png": "[encoded data removed]",
      "text/plain": [
       "<Figure size 640x480 with 1 Axes>"
      ]
     },
     "metadata": {},
     "output_type": "display_data"
    }
   ],
   "source": [
    "df['Quantity'].hist(bins=50)"
   ]
  },
  {
   "cell_type": "code",
   "execution_count": 108,
   "id": "0b9210a1",
   "metadata": {},
   "outputs": [
    {
     "data": {
      "text/html": [
       "<div>\n",
       "<style scoped>\n",
       "    .dataframe tbody tr th:only-of-type {\n",
       "        vertical-align: middle;\n",
       "    }\n",
       "\n",
       "    .dataframe tbody tr th {\n",
       "        vertical-align: top;\n",
       "    }\n",
       "\n",
       "    .dataframe thead th {\n",
       "        text-align: right;\n",
       "    }\n",
       "</style>\n",
       "<table border=\"1\" class=\"dataframe\">\n",
       "  <thead>\n",
       "    <tr style=\"text-align: right;\">\n",
       "      <th></th>\n",
       "      <th>Item Name</th>\n",
       "      <th>Quantity</th>\n",
       "      <th>Total Bcy</th>\n",
       "    </tr>\n",
       "  </thead>\n",
       "  <tbody>\n",
       "    <tr>\n",
       "      <th>176</th>\n",
       "      <td>Unknown Product</td>\n",
       "      <td>70000.0</td>\n",
       "      <td>201250.00</td>\n",
       "    </tr>\n",
       "    <tr>\n",
       "      <th>175</th>\n",
       "      <td>Unknown Product</td>\n",
       "      <td>60000.0</td>\n",
       "      <td>172500.00</td>\n",
       "    </tr>\n",
       "    <tr>\n",
       "      <th>633</th>\n",
       "      <td>Trina Solar Panels Mono PERC DE19 Model: DE19 ...</td>\n",
       "      <td>51150.0</td>\n",
       "      <td>53196.00</td>\n",
       "    </tr>\n",
       "    <tr>\n",
       "      <th>1800</th>\n",
       "      <td>بلك عادي مقاس 20</td>\n",
       "      <td>50000.0</td>\n",
       "      <td>56521.75</td>\n",
       "    </tr>\n",
       "    <tr>\n",
       "      <th>712</th>\n",
       "      <td>اتفاق حار 10 ملم</td>\n",
       "      <td>40000.0</td>\n",
       "      <td>98000.00</td>\n",
       "    </tr>\n",
       "    <tr>\n",
       "      <th>569</th>\n",
       "      <td>FLATE WASHER H D G F436</td>\n",
       "      <td>23180.0</td>\n",
       "      <td>7417.60</td>\n",
       "    </tr>\n",
       "    <tr>\n",
       "      <th>566</th>\n",
       "      <td>صامولة صلب مجلفن حار</td>\n",
       "      <td>23180.0</td>\n",
       "      <td>6954.00</td>\n",
       "    </tr>\n",
       "    <tr>\n",
       "      <th>2206</th>\n",
       "      <td>توريد وتشغيل طبقة اسفلت سماكة 4 سم - مع رش طبق...</td>\n",
       "      <td>23000.0</td>\n",
       "      <td>440220.00</td>\n",
       "    </tr>\n",
       "    <tr>\n",
       "      <th>172</th>\n",
       "      <td>Unknown Product</td>\n",
       "      <td>20000.0</td>\n",
       "      <td>55000.00</td>\n",
       "    </tr>\n",
       "    <tr>\n",
       "      <th>174</th>\n",
       "      <td>Unknown Product</td>\n",
       "      <td>20000.0</td>\n",
       "      <td>52000.00</td>\n",
       "    </tr>\n",
       "  </tbody>\n",
       "</table>\n",
       "</div>"
      ],
      "text/plain": [
       "                                              Item Name  Quantity  Total Bcy\n",
       "176                                     Unknown Product   70000.0  201250.00\n",
       "175                                     Unknown Product   60000.0  172500.00\n",
       "633   Trina Solar Panels Mono PERC DE19 Model: DE19 ...   51150.0   53196.00\n",
       "1800                                   بلك عادي مقاس 20   50000.0   56521.75\n",
       "712                                    اتفاق حار 10 ملم   40000.0   98000.00\n",
       "569                             FLATE WASHER H D G F436   23180.0    7417.60\n",
       "566                                صامولة صلب مجلفن حار   23180.0    6954.00\n",
       "2206  توريد وتشغيل طبقة اسفلت سماكة 4 سم - مع رش طبق...   23000.0  440220.00\n",
       "172                                     Unknown Product   20000.0   55000.00\n",
       "174                                     Unknown Product   20000.0   52000.00"
      ]
     },
     "execution_count": 108,
     "metadata": {},
     "output_type": "execute_result"
    }
   ],
   "source": [
    "df.sort_values('Quantity', ascending=False).head(10)[['Item Name', 'Quantity', 'Total Bcy']]"
   ]
  },
  {
   "cell_type": "code",
   "execution_count": 113,
   "id": "0ea4d107",
   "metadata": {},
   "outputs": [
    {
     "data": {
      "text/html": [
       "<div>\n",
       "<style scoped>\n",
       "    .dataframe tbody tr th:only-of-type {\n",
       "        vertical-align: middle;\n",
       "    }\n",
       "\n",
       "    .dataframe tbody tr th {\n",
       "        vertical-align: top;\n",
       "    }\n",
       "\n",
       "    .dataframe thead th {\n",
       "        text-align: right;\n",
       "    }\n",
       "</style>\n",
       "<table border=\"1\" class=\"dataframe\">\n",
       "  <thead>\n",
       "    <tr style=\"text-align: right;\">\n",
       "      <th></th>\n",
       "      <th>Quantity</th>\n",
       "      <th>Unit Price</th>\n",
       "    </tr>\n",
       "  </thead>\n",
       "  <tbody>\n",
       "    <tr>\n",
       "      <th>count</th>\n",
       "      <td>3150.000000</td>\n",
       "      <td>3.150000e+03</td>\n",
       "    </tr>\n",
       "    <tr>\n",
       "      <th>mean</th>\n",
       "      <td>475.470797</td>\n",
       "      <td>4.420826e+03</td>\n",
       "    </tr>\n",
       "    <tr>\n",
       "      <th>std</th>\n",
       "      <td>2737.024475</td>\n",
       "      <td>3.398815e+04</td>\n",
       "    </tr>\n",
       "    <tr>\n",
       "      <th>min</th>\n",
       "      <td>0.150000</td>\n",
       "      <td>0.000000e+00</td>\n",
       "    </tr>\n",
       "    <tr>\n",
       "      <th>25%</th>\n",
       "      <td>7.000000</td>\n",
       "      <td>4.600000e+01</td>\n",
       "    </tr>\n",
       "    <tr>\n",
       "      <th>50%</th>\n",
       "      <td>30.000000</td>\n",
       "      <td>4.150000e+02</td>\n",
       "    </tr>\n",
       "    <tr>\n",
       "      <th>75%</th>\n",
       "      <td>130.000000</td>\n",
       "      <td>2.300000e+03</td>\n",
       "    </tr>\n",
       "    <tr>\n",
       "      <th>max</th>\n",
       "      <td>70000.000000</td>\n",
       "      <td>1.150000e+06</td>\n",
       "    </tr>\n",
       "  </tbody>\n",
       "</table>\n",
       "</div>"
      ],
      "text/plain": [
       "           Quantity    Unit Price\n",
       "count   3150.000000  3.150000e+03\n",
       "mean     475.470797  4.420826e+03\n",
       "std     2737.024475  3.398815e+04\n",
       "min        0.150000  0.000000e+00\n",
       "25%        7.000000  4.600000e+01\n",
       "50%       30.000000  4.150000e+02\n",
       "75%      130.000000  2.300000e+03\n",
       "max    70000.000000  1.150000e+06"
      ]
     },
     "execution_count": 113,
     "metadata": {},
     "output_type": "execute_result"
    }
   ],
   "source": [
    "df[['Quantity','Unit Price']].describe()"
   ]
  },
  {
   "cell_type": "code",
   "execution_count": 155,
   "id": "90279c55",
   "metadata": {},
   "outputs": [
    {
     "data": {
      "text/plain": [
       "count    3.146000e+03\n",
       "mean     4.426446e+03\n",
       "std      3.400939e+04\n",
       "min      7.000000e-02\n",
       "25%      4.641755e+01\n",
       "50%      4.150000e+02\n",
       "75%      2.300000e+03\n",
       "max      1.150000e+06\n",
       "Name: Unit Price, dtype: float64"
      ]
     },
     "execution_count": 155,
     "metadata": {},
     "output_type": "execute_result"
    }
   ],
   "source": [
    "df['Unit Price'] = df['Total Bcy'] / df['Quantity']\n",
    "df['Unit Price'].describe()"
   ]
  },
  {
   "cell_type": "code",
   "execution_count": 157,
   "id": "78b4be06",
   "metadata": {},
   "outputs": [
    {
     "data": {
      "text/html": [
       "<div>\n",
       "<style scoped>\n",
       "    .dataframe tbody tr th:only-of-type {\n",
       "        vertical-align: middle;\n",
       "    }\n",
       "\n",
       "    .dataframe tbody tr th {\n",
       "        vertical-align: top;\n",
       "    }\n",
       "\n",
       "    .dataframe thead th {\n",
       "        text-align: right;\n",
       "    }\n",
       "</style>\n",
       "<table border=\"1\" class=\"dataframe\">\n",
       "  <thead>\n",
       "    <tr style=\"text-align: right;\">\n",
       "      <th></th>\n",
       "      <th>Item Name</th>\n",
       "      <th>Quantity</th>\n",
       "      <th>Total Bcy</th>\n",
       "    </tr>\n",
       "  </thead>\n",
       "  <tbody>\n",
       "  </tbody>\n",
       "</table>\n",
       "</div>"
      ],
      "text/plain": [
       "Empty DataFrame\n",
       "Columns: [Item Name, Quantity, Total Bcy]\n",
       "Index: []"
      ]
     },
     "execution_count": 157,
     "metadata": {},
     "output_type": "execute_result"
    }
   ],
   "source": [
    "df[df['Unit Price'] == 0][['Item Name','Quantity','Total Bcy']]"
   ]
  },
  {
   "cell_type": "code",
   "execution_count": 122,
   "id": "20b47829",
   "metadata": {},
   "outputs": [],
   "source": [
    "df = df[~((df['Total Bcy'] == 0) & (df['Quantity'] > 0))]"
   ]
  },
  {
   "cell_type": "code",
   "execution_count": 73,
   "id": "b9a6ae91",
   "metadata": {},
   "outputs": [
    {
     "data": {
      "text/html": [
       "<div>\n",
       "<style scoped>\n",
       "    .dataframe tbody tr th:only-of-type {\n",
       "        vertical-align: middle;\n",
       "    }\n",
       "\n",
       "    .dataframe tbody tr th {\n",
       "        vertical-align: top;\n",
       "    }\n",
       "\n",
       "    .dataframe thead th {\n",
       "        text-align: right;\n",
       "    }\n",
       "</style>\n",
       "<table border=\"1\" class=\"dataframe\">\n",
       "  <thead>\n",
       "    <tr style=\"text-align: right;\">\n",
       "      <th></th>\n",
       "      <th>Total Bcy</th>\n",
       "      <th>Sub Total Bcy</th>\n",
       "    </tr>\n",
       "  </thead>\n",
       "  <tbody>\n",
       "    <tr>\n",
       "      <th>count</th>\n",
       "      <td>3.150000e+03</td>\n",
       "      <td>3.150000e+03</td>\n",
       "    </tr>\n",
       "    <tr>\n",
       "      <th>mean</th>\n",
       "      <td>4.853890e+04</td>\n",
       "      <td>4.854089e+04</td>\n",
       "    </tr>\n",
       "    <tr>\n",
       "      <th>std</th>\n",
       "      <td>1.046032e+05</td>\n",
       "      <td>1.046032e+05</td>\n",
       "    </tr>\n",
       "    <tr>\n",
       "      <th>min</th>\n",
       "      <td>0.000000e+00</td>\n",
       "      <td>0.000000e+00</td>\n",
       "    </tr>\n",
       "    <tr>\n",
       "      <th>25%</th>\n",
       "      <td>2.001473e+03</td>\n",
       "      <td>2.001473e+03</td>\n",
       "    </tr>\n",
       "    <tr>\n",
       "      <th>50%</th>\n",
       "      <td>1.235133e+04</td>\n",
       "      <td>1.237840e+04</td>\n",
       "    </tr>\n",
       "    <tr>\n",
       "      <th>75%</th>\n",
       "      <td>5.599900e+04</td>\n",
       "      <td>5.599900e+04</td>\n",
       "    </tr>\n",
       "    <tr>\n",
       "      <th>max</th>\n",
       "      <td>1.519000e+06</td>\n",
       "      <td>1.519000e+06</td>\n",
       "    </tr>\n",
       "  </tbody>\n",
       "</table>\n",
       "</div>"
      ],
      "text/plain": [
       "          Total Bcy  Sub Total Bcy\n",
       "count  3.150000e+03   3.150000e+03\n",
       "mean   4.853890e+04   4.854089e+04\n",
       "std    1.046032e+05   1.046032e+05\n",
       "min    0.000000e+00   0.000000e+00\n",
       "25%    2.001473e+03   2.001473e+03\n",
       "50%    1.235133e+04   1.237840e+04\n",
       "75%    5.599900e+04   5.599900e+04\n",
       "max    1.519000e+06   1.519000e+06"
      ]
     },
     "execution_count": 73,
     "metadata": {},
     "output_type": "execute_result"
    }
   ],
   "source": [
    "df[['Total Bcy', 'Sub Total Bcy']].describe()"
   ]
  },
  {
   "cell_type": "code",
   "execution_count": 74,
   "id": "7f5cd6d5",
   "metadata": {},
   "outputs": [
    {
     "data": {
      "text/plain": [
       "<Axes: >"
      ]
     },
     "execution_count": 74,
     "metadata": {},
     "output_type": "execute_result"
    },
    {
     "data": {
      "image/png": "[encoded data removed]",
      "text/plain": [
       "<Figure size 640x480 with 1 Axes>"
      ]
     },
     "metadata": {},
     "output_type": "display_data"
    }
   ],
   "source": [
    "df['Total Bcy'].hist(bins=50)"
   ]
  },
  {
   "cell_type": "code",
   "execution_count": 81,
   "id": "20b8329d",
   "metadata": {},
   "outputs": [
    {
     "data": {
      "text/plain": [
       "Difference\n",
       " 0.00      3135\n",
       "-8.07         1\n",
       "-275.00       1\n",
       "-106.00       1\n",
       "-827.78       1\n",
       "Name: count, dtype: int64"
      ]
     },
     "execution_count": 81,
     "metadata": {},
     "output_type": "execute_result"
    }
   ],
   "source": [
    "df['Difference'] = df['Total Bcy'] - df['Sub Total Bcy']\n",
    "df['Difference'].value_counts().head()\n"
   ]
  },
  {
   "cell_type": "code",
   "execution_count": 124,
   "id": "1edb84d0",
   "metadata": {},
   "outputs": [],
   "source": [
    "df = df.drop(columns=['Sub Total Bcy'])"
   ]
  },
  {
   "cell_type": "code",
   "execution_count": null,
   "id": "013722d8",
   "metadata": {},
   "outputs": [],
   "source": [
    "df['Item Name'].value_counts().head(10)"
   ]
  },
  {
   "cell_type": "code",
   "execution_count": 82,
   "id": "c455bdff",
   "metadata": {},
   "outputs": [
    {
     "data": {
      "image/png": "[encoded data removed]",
      "text/plain": [
       "<Figure size 640x480 with 1 Axes>"
      ]
     },
     "metadata": {},
     "output_type": "display_data"
    }
   ],
   "source": [
    "import matplotlib.pyplot as plt\n",
    "\n",
    "plt.scatter(df['Quantity'], df['Total Bcy'])\n",
    "plt.xlabel(\"Quantity\")\n",
    "plt.ylabel(\"Total Bcy\")\n",
    "plt.show()\n"
   ]
  },
  {
   "cell_type": "code",
   "execution_count": 86,
   "id": "5339c621",
   "metadata": {},
   "outputs": [
    {
     "data": {
      "text/html": [
       "<div>\n",
       "<style scoped>\n",
       "    .dataframe tbody tr th:only-of-type {\n",
       "        vertical-align: middle;\n",
       "    }\n",
       "\n",
       "    .dataframe tbody tr th {\n",
       "        vertical-align: top;\n",
       "    }\n",
       "\n",
       "    .dataframe thead th {\n",
       "        text-align: right;\n",
       "    }\n",
       "</style>\n",
       "<table border=\"1\" class=\"dataframe\">\n",
       "  <thead>\n",
       "    <tr style=\"text-align: right;\">\n",
       "      <th></th>\n",
       "      <th>count</th>\n",
       "      <th>mean</th>\n",
       "      <th>std</th>\n",
       "      <th>min</th>\n",
       "      <th>25%</th>\n",
       "      <th>50%</th>\n",
       "      <th>75%</th>\n",
       "      <th>max</th>\n",
       "    </tr>\n",
       "    <tr>\n",
       "      <th>Currency Code</th>\n",
       "      <th></th>\n",
       "      <th></th>\n",
       "      <th></th>\n",
       "      <th></th>\n",
       "      <th></th>\n",
       "      <th></th>\n",
       "      <th></th>\n",
       "      <th></th>\n",
       "    </tr>\n",
       "  </thead>\n",
       "  <tbody>\n",
       "    <tr>\n",
       "      <th>SAR</th>\n",
       "      <td>3085.0</td>\n",
       "      <td>49124.784622</td>\n",
       "      <td>105484.689589</td>\n",
       "      <td>0.00</td>\n",
       "      <td>2000.00</td>\n",
       "      <td>12720.0</td>\n",
       "      <td>57600.00</td>\n",
       "      <td>1519000.00</td>\n",
       "    </tr>\n",
       "    <tr>\n",
       "      <th>USD</th>\n",
       "      <td>65.0</td>\n",
       "      <td>20731.885846</td>\n",
       "      <td>37238.025749</td>\n",
       "      <td>865.84</td>\n",
       "      <td>3016.02</td>\n",
       "      <td>6012.8</td>\n",
       "      <td>30703.12</td>\n",
       "      <td>258080.65</td>\n",
       "    </tr>\n",
       "  </tbody>\n",
       "</table>\n",
       "</div>"
      ],
      "text/plain": [
       "                count          mean            std     min      25%      50%  \\\n",
       "Currency Code                                                                  \n",
       "SAR            3085.0  49124.784622  105484.689589    0.00  2000.00  12720.0   \n",
       "USD              65.0  20731.885846   37238.025749  865.84  3016.02   6012.8   \n",
       "\n",
       "                    75%         max  \n",
       "Currency Code                        \n",
       "SAR            57600.00  1519000.00  \n",
       "USD            30703.12   258080.65  "
      ]
     },
     "execution_count": 86,
     "metadata": {},
     "output_type": "execute_result"
    }
   ],
   "source": [
    "df.groupby('Currency Code')['Total Bcy'].describe()"
   ]
  },
  {
   "cell_type": "code",
   "execution_count": 125,
   "id": "ff68686b",
   "metadata": {},
   "outputs": [
    {
     "data": {
      "text/html": [
       "<div>\n",
       "<style scoped>\n",
       "    .dataframe tbody tr th:only-of-type {\n",
       "        vertical-align: middle;\n",
       "    }\n",
       "\n",
       "    .dataframe tbody tr th {\n",
       "        vertical-align: top;\n",
       "    }\n",
       "\n",
       "    .dataframe thead th {\n",
       "        text-align: right;\n",
       "    }\n",
       "</style>\n",
       "<table border=\"1\" class=\"dataframe\">\n",
       "  <thead>\n",
       "    <tr style=\"text-align: right;\">\n",
       "      <th></th>\n",
       "      <th>count</th>\n",
       "      <th>sum</th>\n",
       "      <th>mean</th>\n",
       "    </tr>\n",
       "    <tr>\n",
       "      <th>Currency Code</th>\n",
       "      <th></th>\n",
       "      <th></th>\n",
       "      <th></th>\n",
       "    </tr>\n",
       "  </thead>\n",
       "  <tbody>\n",
       "    <tr>\n",
       "      <th>SAR</th>\n",
       "      <td>3081</td>\n",
       "      <td>1.515500e+08</td>\n",
       "      <td>49188.562337</td>\n",
       "    </tr>\n",
       "    <tr>\n",
       "      <th>USD</th>\n",
       "      <td>65</td>\n",
       "      <td>1.347573e+06</td>\n",
       "      <td>20731.885846</td>\n",
       "    </tr>\n",
       "  </tbody>\n",
       "</table>\n",
       "</div>"
      ],
      "text/plain": [
       "               count           sum          mean\n",
       "Currency Code                                   \n",
       "SAR             3081  1.515500e+08  49188.562337\n",
       "USD               65  1.347573e+06  20731.885846"
      ]
     },
     "execution_count": 125,
     "metadata": {},
     "output_type": "execute_result"
    }
   ],
   "source": [
    "df.groupby('Currency Code')['Total Bcy'].agg(['count','sum','mean'])\n"
   ]
  },
  {
   "cell_type": "code",
   "execution_count": 130,
   "id": "c2604a39",
   "metadata": {},
   "outputs": [
    {
     "data": {
      "text/plain": [
       "2300"
      ]
     },
     "execution_count": 130,
     "metadata": {},
     "output_type": "execute_result"
    }
   ],
   "source": [
    "df['Item Name'].nunique()"
   ]
  },
  {
   "cell_type": "code",
   "execution_count": 131,
   "id": "de94fcfa",
   "metadata": {},
   "outputs": [
    {
     "data": {
      "text/plain": [
       "Item Name\n",
       "Unknown Product                       240\n",
       "حديد سابك 16 ملم 12 م                  13\n",
       "حديد تسليح اتفاق 14مم 12متر            11\n",
       "حديد تسليح اتفاق 16مم 12متر            11\n",
       "حديد تسليح اتفاق 20مم 12متر            11\n",
       "حديد تسليح وطني 14 مم *12 متر           9\n",
       "حديد تسليح سابك مسحوب 6 متر 8 مم        9\n",
       "حديد تسليح سابك مسحوب 12 متر 10 مم      8\n",
       "حديد تسليح وطني 12 مم*12متر             8\n",
       "براغي مجلفن حار A325                    8\n",
       "Name: count, dtype: int64"
      ]
     },
     "execution_count": 131,
     "metadata": {},
     "output_type": "execute_result"
    }
   ],
   "source": [
    "df['Item Name'].value_counts().head(10)\n"
   ]
  },
  {
   "cell_type": "code",
   "execution_count": 132,
   "id": "0cd72f2c",
   "metadata": {},
   "outputs": [
    {
     "data": {
      "text/plain": [
       "Item Name\n",
       "Unknown Product                                              15121493.55\n",
       "حديد كويل 9 مل                                                3297700.00\n",
       "حديد كويل 11 مل                                               3138450.00\n",
       "Crump Rubber                                                  2189700.00\n",
       "خرسانة جاهزة                                                  2086304.34\n",
       "حديد كويل 11 ملم                                              1999200.00\n",
       "حديد تسليح اليمامة 14 مل                                      1317000.00\n",
       "حديد كويل 9 ملم                                               1225000.00\n",
       "حديد سابك 16 ملم 12 م                                         1197100.00\n",
       "Square Tube 150 x 150 x 4.8 mm x 12mtr ASTM A 500 Grade B     1184030.00\n",
       "Name: Total Bcy, dtype: float64"
      ]
     },
     "execution_count": 132,
     "metadata": {},
     "output_type": "execute_result"
    }
   ],
   "source": [
    "df.groupby('Item Name')['Total Bcy'].sum().sort_values(ascending=False).head(10)"
   ]
  },
  {
   "cell_type": "code",
   "execution_count": 133,
   "id": "aa7f5ac1",
   "metadata": {},
   "outputs": [
    {
     "data": {
      "text/plain": [
       "Item Name\n",
       "Unknown Product                                                                                         15121493.55\n",
       "حديد كويل 9 مل                                                                                           3297700.00\n",
       "حديد كويل 11 مل                                                                                          3138450.00\n",
       "Crump Rubber                                                                                             2189700.00\n",
       "خرسانة جاهزة                                                                                             2086304.34\n",
       "حديد كويل 11 ملم                                                                                         1999200.00\n",
       "حديد تسليح اليمامة 14 مل                                                                                 1317000.00\n",
       "حديد كويل 9 ملم                                                                                          1225000.00\n",
       "حديد سابك 16 ملم 12 م                                                                                    1197100.00\n",
       "Square Tube 150 x 150 x 4.8 mm x 12mtr ASTM A 500 Grade B                                                1184030.00\n",
       "16.0 mm Black Deformed Straight Bar G60-12 M-Sabic                                                       1077950.00\n",
       "Ajeej Steel 14 mm - Shadeed                                                                              1076100.00\n",
       "حديد تسليح مجدول سعودي سابك 16 مم * 12 م                                                                 1058600.00\n",
       "حديد مقاسات مختلفة                                                                                       1025000.00\n",
       "حديد تسليح مجدول سعودي سابك 14 مم * 12 م                                                                  974600.00\n",
       "m 9 coil - حديد كويل 9 ملم املس                                                                           955200.00\n",
       "60 kVA / 48 kW 3 Battery Backup Uninterruptible Power Supply (UPS) And Power Conditioner                  951300.00\n",
       "Ovation Rêve E-3 IP Includes: Light Engine Only, IP PowerKON Power Cord - NO LENS TUBE Control: 5-pi      938869.21\n",
       "Rechargeable Battery, VRLA Battery,12V,                                                                   920081.60\n",
       "G40 حديد مجلفن 8                                                                                          900000.00\n",
       "Name: Total Bcy, dtype: float64"
      ]
     },
     "execution_count": 133,
     "metadata": {},
     "output_type": "execute_result"
    }
   ],
   "source": [
    "df.groupby('Item Name')['Total Bcy'].sum().sort_values(ascending=False).head(20)\n"
   ]
  },
  {
   "cell_type": "code",
   "execution_count": 134,
   "id": "dd5d0f98",
   "metadata": {},
   "outputs": [
    {
     "data": {
      "text/plain": [
       "Item Name\n",
       "حديد مقاسات مختلفة                                           512500.000000\n",
       "اعمال تركيب الهناجر (50% من تصنيع وتركيب الهيكل المعدني )    500000.000000\n",
       "حديد قطاعات (كيربي)                                          499000.000000\n",
       "مواد كسارة                                                   434782.610000\n",
       "4X240 CU/XLPE/SWA/PVC                                        384589.830508\n",
       "Ready mix concrete                                           291335.990000\n",
       "ساندوتش بانل                                                 290000.000000\n",
       "خرسانة جاهزة                                                 275000.000000\n",
       "توريج حديد تسليح                                             250000.000000\n",
       "4X120 CU/XLPE/SWA/PVC                                        197700.000000\n",
       "Name: Unit Price, dtype: float64"
      ]
     },
     "execution_count": 134,
     "metadata": {},
     "output_type": "execute_result"
    }
   ],
   "source": [
    "df.groupby('Item Name')['Unit Price'].median().sort_values(ascending=False).head(10)"
   ]
  },
  {
   "cell_type": "code",
   "execution_count": 135,
   "id": "83f8d9bc",
   "metadata": {},
   "outputs": [
    {
     "data": {
      "text/plain": [
       "Item Name\n",
       "بلك عادي مقاس 20                                                      50000.0\n",
       "Trina Solar Panels Mono PERC DE19 Model: DE19 550 W ( unit: WATT )    34100.0\n",
       "FLATE WASHER H D G F436                                               23180.0\n",
       "توريد وتشغيل طبقة اسفلت سماكة 4 سم - مع رش طبقة RC2                   23000.0\n",
       "Polystyrene - EPS                                                     20000.0\n",
       "Acrylic                                                               18500.0\n",
       "AQUATERRA PPR ELBOW 90˚ 20mm                                          17500.0\n",
       "GI 0.60X1219X2440MM                                                   15000.0\n",
       "GI 0.60X1219XC                                                        15000.0\n",
       "Duct Fabrication from G.I.Steel - G.90                                13840.0\n",
       "Name: Quantity, dtype: float64"
      ]
     },
     "execution_count": 135,
     "metadata": {},
     "output_type": "execute_result"
    }
   ],
   "source": [
    "df.groupby('Item Name')['Quantity'].mean().sort_values(ascending=False).head(10)"
   ]
  },
  {
   "cell_type": "code",
   "execution_count": 146,
   "id": "d73f9c34",
   "metadata": {},
   "outputs": [],
   "source": [
    "import re\n",
    "def word_lang(word):\n",
    "    if re.search(r'[\\u0600-\\u06FF]', word):\n",
    "        return \"Arabic\"\n",
    "    return \"English\"\n",
    "\n",
    "df['Tokens'] = df['Item Name'].apply(lambda x: x.split())\n",
    "df['Lang_Tokens'] = df['Tokens'].apply(lambda words: [word_lang(w) for w in words])\n"
   ]
  },
  {
   "cell_type": "code",
   "execution_count": null,
   "id": "8fe8ed19",
   "metadata": {},
   "outputs": [
    {
     "data": {
      "text/plain": [
       "Category\n",
       "Other       1589\n",
       "Material    1424\n",
       "Mixed         72\n",
       "Service       61\n",
       "Name: count, dtype: int64"
      ]
     },
     "execution_count": 147,
     "metadata": {},
     "output_type": "execute_result"
    }
   ],
   "source": [
    "service_keywords = [\n",
    "    \n",
    "    \"installation\",\"service\",\"maintenance\",\"repair\",\"inspection\",\"calibration\",\n",
    "    \"testing\",\"commissioning\",\"training\",\"consulting\",\"labor\",\"fabrication\",\n",
    "    \"welding\",\"painting\",\"assembly\",\"delivery\",\"transport\",\"rent\",\"leasing\",\n",
    "    \"support\",\"operation\",\"upgrade\",\"replacement\",\"supervision\",\"workshop\",\n",
    "    \"civil works\",\"scaffolding\",\"cleaning\",\"polishing\",\"finishing\",\"construction\",\n",
    "    \"earthworks\",\"surveying\",\"demolition\",\"renovation\",\"paving\",\"landscaping\",\n",
    "    \"excavation\",\"drilling\",\"plumbing\",\"electrical\",\"carpentry\",\"masonry\",\n",
    "    \"air conditioning\",\"hvac\",\"pipeline\",\"installation works\",\"supply & install\",\n",
    "\n",
    "    \"تركيب\",\"اعمال\",\"توريد\",\"تشغيل\",\"صيانة\",\"خدمة\",\"تأجير\",\"تدريب\",\"اختبار\",\n",
    "    \"فحص\",\"دهان\",\"لحام\",\"تصنيع\",\"نقل\",\"تشطيب\",\"ترميم\",\"بناء\",\"مقاول\",\"اشراف\",\n",
    "    \"توريدات\",\"تنظيف\",\"تشييد\",\"تفكيك\",\"هدم\",\"اعادة\",\"سفلتة\",\"رصف\",\"مسح\",\n",
    "    \"سباكة\",\"كهرباء\",\"نجارة\",\"مباني\",\"خرسانة\",\"ارضيات\",\"عزل\",\"دهانات\"\n",
    "]\n",
    "\n",
    "material_keywords = [\n",
    "\n",
    "    \"steel\",\"iron\",\"aluminum\",\"copper\",\"cable\",\"wire\",\"panel\",\"block\",\"brick\",\n",
    "    \"cement\",\"concrete\",\"sand\",\"gravel\",\"aggregate\",\"pipe\",\"valve\",\"rubber\",\n",
    "    \"gasket\",\"nut\",\"bolt\",\"washer\",\"glass\",\"ceramic\",\"tile\",\"timber\",\"wood\",\n",
    "    \"plywood\",\"paint\",\"plaster\",\"asphalt\",\"insulation\",\"bitumen\",\"mesh\",\"rod\",\n",
    "    \"beam\",\"screw\",\"nail\",\"adhesive\",\"sealant\",\"flooring\",\"marble\",\"granite\",\n",
    "    \"gypsum\",\"pvc\",\"plastic\",\"polyethylene\",\"battery\",\"hose\",\"filter\",\"cartridge\",\n",
    "    \"tank\",\"sheet\",\"fabric\",\"cloth\",\"foam\",\"stone\",\"copper wire\",\"panel board\",\n",
    "\n",
    "    \"حديد\",\"صلب\",\"المونيوم\",\"نحاس\",\"كابل\",\"سلك\",\"لوح\",\"بلك\",\"طوب\",\"اسمنت\",\n",
    "    \"خرسانة\",\"رمل\",\"حصى\",\"ركام\",\"مواسير\",\"صمام\",\"ربر\",\"جلدة\",\"صامولة\",\"برغي\",\n",
    "    \"غسالة\",\"زجاج\",\"سيراميك\",\"بلاط\",\"خشب\",\"خشبي\",\"دهان\",\"جبس\",\"عازل\",\"بيتومين\",\n",
    "    \"شبك\",\"قضيب\",\"شاسيه\",\"مسامير\",\"لاصق\",\"سيليكون\",\"ارضيات\",\"رخام\",\"جرانيت\",\n",
    "    \"بولي\",\"بطارية\",\"خرطوم\",\"فلتر\",\"خزان\",\"قماش\",\"حجر\",\"لوح\",\"صفائح\",\"عازل حراري\"\n",
    "]\n",
    "\n",
    "\n",
    "def classify_item(name):\n",
    "    name_low = name.lower()\n",
    "    service_hits = [kw for kw in service_keywords if kw in name_low]\n",
    "    material_hits = [kw for kw in material_keywords if kw in name_low]\n",
    "\n",
    "    if service_hits and material_hits:\n",
    "        return \"Mixed\"\n",
    "    elif service_hits:\n",
    "        return \"Service\"\n",
    "    elif material_hits:\n",
    "        return \"Material\"\n",
    "    else:\n",
    "        return \"Other\"\n",
    "\n",
    "df['Category'] = df['Item Name'].apply(classify_item)\n",
    "df['Category'].value_counts()"
   ]
  },
  {
   "cell_type": "code",
   "execution_count": 164,
   "id": "2a063e8f",
   "metadata": {},
   "outputs": [
    {
     "data": {
      "text/html": [
       "<div>\n",
       "<style scoped>\n",
       "    .dataframe tbody tr th:only-of-type {\n",
       "        vertical-align: middle;\n",
       "    }\n",
       "\n",
       "    .dataframe tbody tr th {\n",
       "        vertical-align: top;\n",
       "    }\n",
       "\n",
       "    .dataframe thead th {\n",
       "        text-align: right;\n",
       "    }\n",
       "</style>\n",
       "<table border=\"1\" class=\"dataframe\">\n",
       "  <thead>\n",
       "    <tr style=\"text-align: right;\">\n",
       "      <th></th>\n",
       "      <th>Item Name</th>\n",
       "    </tr>\n",
       "  </thead>\n",
       "  <tbody>\n",
       "    <tr>\n",
       "      <th>233</th>\n",
       "      <td>HEB 200X200X15X9MMX12MTR</td>\n",
       "    </tr>\n",
       "    <tr>\n",
       "      <th>234</th>\n",
       "      <td>HEB 280X280X10.5X18MMX12MTR</td>\n",
       "    </tr>\n",
       "    <tr>\n",
       "      <th>235</th>\n",
       "      <td>IPE 300X150X7.1X10.7X12MTR</td>\n",
       "    </tr>\n",
       "    <tr>\n",
       "      <th>236</th>\n",
       "      <td>HEB 260X260X10X17.5MMX12MTR</td>\n",
       "    </tr>\n",
       "    <tr>\n",
       "      <th>247</th>\n",
       "      <td>Tube 40x40x1.20x6000MM</td>\n",
       "    </tr>\n",
       "    <tr>\n",
       "      <th>...</th>\n",
       "      <td>...</td>\n",
       "    </tr>\n",
       "    <tr>\n",
       "      <th>3134</th>\n",
       "      <td>12.0 mm Black Deformed Straight Bar G60 – 12M ...</td>\n",
       "    </tr>\n",
       "    <tr>\n",
       "      <th>3135</th>\n",
       "      <td>14.0 mm Black Deformed Straight Bar G60 – 12M ...</td>\n",
       "    </tr>\n",
       "    <tr>\n",
       "      <th>3136</th>\n",
       "      <td>12.0 MM Black deformed straight bar G60-12m-It...</td>\n",
       "    </tr>\n",
       "    <tr>\n",
       "      <th>3140</th>\n",
       "      <td>32.0 mm Black Deformed Straight Bar G60-12 M-S...</td>\n",
       "    </tr>\n",
       "    <tr>\n",
       "      <th>3141</th>\n",
       "      <td>18.0 mm Black Deformed Straight Bar G60-12 M -...</td>\n",
       "    </tr>\n",
       "  </tbody>\n",
       "</table>\n",
       "<p>1589 rows × 1 columns</p>\n",
       "</div>"
      ],
      "text/plain": [
       "                                              Item Name\n",
       "233                            HEB 200X200X15X9MMX12MTR\n",
       "234                         HEB 280X280X10.5X18MMX12MTR\n",
       "235                          IPE 300X150X7.1X10.7X12MTR\n",
       "236                         HEB 260X260X10X17.5MMX12MTR\n",
       "247                              Tube 40x40x1.20x6000MM\n",
       "...                                                 ...\n",
       "3134  12.0 mm Black Deformed Straight Bar G60 – 12M ...\n",
       "3135  14.0 mm Black Deformed Straight Bar G60 – 12M ...\n",
       "3136  12.0 MM Black deformed straight bar G60-12m-It...\n",
       "3140  32.0 mm Black Deformed Straight Bar G60-12 M-S...\n",
       "3141  18.0 mm Black Deformed Straight Bar G60-12 M -...\n",
       "\n",
       "[1589 rows x 1 columns]"
      ]
     },
     "execution_count": 164,
     "metadata": {},
     "output_type": "execute_result"
    }
   ],
   "source": [
    "df[df['Category']=='Other'][['Item Name']]"
   ]
  },
  {
   "cell_type": "code",
   "execution_count": 168,
   "id": "3d0f3d21",
   "metadata": {},
   "outputs": [],
   "source": [
    "mask = df['Currency Code'] == 'USD'"
   ]
  },
  {
   "cell_type": "code",
   "execution_count": 169,
   "id": "f79191a0",
   "metadata": {},
   "outputs": [],
   "source": [
    "df.loc[mask, 'Total Bcy'] = df.loc[mask, 'Total Bcy'] * 3.75\n",
    "df.loc[mask, 'Currency Code'] = 'SAR'\n"
   ]
  },
  {
   "cell_type": "code",
   "execution_count": 171,
   "id": "b4bf992a",
   "metadata": {},
   "outputs": [
    {
     "name": "stdout",
     "output_type": "stream",
     "text": [
      "<class 'pandas.core.series.Series'>\n",
      "Index: 3146 entries, 0 to 3149\n",
      "Series name: Currency Code\n",
      "Non-Null Count  Dtype\n",
      "--------------  -----\n",
      "3146 non-null   bool \n",
      "dtypes: bool(1)\n",
      "memory usage: 27.7 KB\n"
     ]
    }
   ],
   "source": [
    "(df['Currency Code'] == 'USD').info()"
   ]
  },
  {
   "cell_type": "code",
   "execution_count": 172,
   "id": "6aa90b4b",
   "metadata": {},
   "outputs": [
    {
     "data": {
      "text/html": [
       "<div>\n",
       "<style scoped>\n",
       "    .dataframe tbody tr th:only-of-type {\n",
       "        vertical-align: middle;\n",
       "    }\n",
       "\n",
       "    .dataframe tbody tr th {\n",
       "        vertical-align: top;\n",
       "    }\n",
       "\n",
       "    .dataframe thead th {\n",
       "        text-align: right;\n",
       "    }\n",
       "</style>\n",
       "<table border=\"1\" class=\"dataframe\">\n",
       "  <thead>\n",
       "    <tr style=\"text-align: right;\">\n",
       "      <th></th>\n",
       "      <th>Item ID</th>\n",
       "      <th>Item Name</th>\n",
       "      <th>Quantity</th>\n",
       "      <th>Total Bcy</th>\n",
       "      <th>Purchase Order ID</th>\n",
       "      <th>Product ID</th>\n",
       "      <th>Currency Code</th>\n",
       "      <th>Account ID</th>\n",
       "      <th>Tax ID</th>\n",
       "      <th>Project ID</th>\n",
       "      <th>Difference</th>\n",
       "      <th>Unit Price</th>\n",
       "      <th>Pct_Diff</th>\n",
       "      <th>Zero_Value</th>\n",
       "      <th>Tokens</th>\n",
       "      <th>Lang_Tokens</th>\n",
       "      <th>Category</th>\n",
       "    </tr>\n",
       "  </thead>\n",
       "  <tbody>\n",
       "    <tr>\n",
       "      <th>0</th>\n",
       "      <td>3263831000000089042</td>\n",
       "      <td>Unknown Product</td>\n",
       "      <td>75.21</td>\n",
       "      <td>227510.25</td>\n",
       "      <td>3263831000000089040</td>\n",
       "      <td>NaN</td>\n",
       "      <td>SAR</td>\n",
       "      <td>3263831000000034003</td>\n",
       "      <td>3.263831e+18</td>\n",
       "      <td>NaN</td>\n",
       "      <td>0.0</td>\n",
       "      <td>3025.0</td>\n",
       "      <td>0.0</td>\n",
       "      <td>False</td>\n",
       "      <td>[Unknown, Product]</td>\n",
       "      <td>[English, English]</td>\n",
       "      <td>Material</td>\n",
       "    </tr>\n",
       "    <tr>\n",
       "      <th>1</th>\n",
       "      <td>3263831000000089046</td>\n",
       "      <td>Unknown Product</td>\n",
       "      <td>15.00</td>\n",
       "      <td>47250.00</td>\n",
       "      <td>3263831000000089040</td>\n",
       "      <td>NaN</td>\n",
       "      <td>SAR</td>\n",
       "      <td>3263831000000034003</td>\n",
       "      <td>3.263831e+18</td>\n",
       "      <td>NaN</td>\n",
       "      <td>0.0</td>\n",
       "      <td>3150.0</td>\n",
       "      <td>0.0</td>\n",
       "      <td>False</td>\n",
       "      <td>[Unknown, Product]</td>\n",
       "      <td>[English, English]</td>\n",
       "      <td>Material</td>\n",
       "    </tr>\n",
       "    <tr>\n",
       "      <th>2</th>\n",
       "      <td>3263831000000089044</td>\n",
       "      <td>Unknown Product</td>\n",
       "      <td>50.00</td>\n",
       "      <td>160000.00</td>\n",
       "      <td>3263831000000089040</td>\n",
       "      <td>NaN</td>\n",
       "      <td>SAR</td>\n",
       "      <td>3263831000000034003</td>\n",
       "      <td>3.263831e+18</td>\n",
       "      <td>NaN</td>\n",
       "      <td>0.0</td>\n",
       "      <td>3200.0</td>\n",
       "      <td>0.0</td>\n",
       "      <td>False</td>\n",
       "      <td>[Unknown, Product]</td>\n",
       "      <td>[English, English]</td>\n",
       "      <td>Material</td>\n",
       "    </tr>\n",
       "    <tr>\n",
       "      <th>3</th>\n",
       "      <td>3263831000000092044</td>\n",
       "      <td>Unknown Product</td>\n",
       "      <td>12.00</td>\n",
       "      <td>38280.00</td>\n",
       "      <td>3263831000000092040</td>\n",
       "      <td>NaN</td>\n",
       "      <td>SAR</td>\n",
       "      <td>3263831000000034003</td>\n",
       "      <td>3.263831e+18</td>\n",
       "      <td>NaN</td>\n",
       "      <td>0.0</td>\n",
       "      <td>3190.0</td>\n",
       "      <td>0.0</td>\n",
       "      <td>False</td>\n",
       "      <td>[Unknown, Product]</td>\n",
       "      <td>[English, English]</td>\n",
       "      <td>Material</td>\n",
       "    </tr>\n",
       "    <tr>\n",
       "      <th>4</th>\n",
       "      <td>3263831000000092052</td>\n",
       "      <td>Unknown Product</td>\n",
       "      <td>2.00</td>\n",
       "      <td>5900.00</td>\n",
       "      <td>3263831000000092040</td>\n",
       "      <td>NaN</td>\n",
       "      <td>SAR</td>\n",
       "      <td>3263831000000034003</td>\n",
       "      <td>3.263831e+18</td>\n",
       "      <td>NaN</td>\n",
       "      <td>0.0</td>\n",
       "      <td>2950.0</td>\n",
       "      <td>0.0</td>\n",
       "      <td>False</td>\n",
       "      <td>[Unknown, Product]</td>\n",
       "      <td>[English, English]</td>\n",
       "      <td>Material</td>\n",
       "    </tr>\n",
       "    <tr>\n",
       "      <th>...</th>\n",
       "      <td>...</td>\n",
       "      <td>...</td>\n",
       "      <td>...</td>\n",
       "      <td>...</td>\n",
       "      <td>...</td>\n",
       "      <td>...</td>\n",
       "      <td>...</td>\n",
       "      <td>...</td>\n",
       "      <td>...</td>\n",
       "      <td>...</td>\n",
       "      <td>...</td>\n",
       "      <td>...</td>\n",
       "      <td>...</td>\n",
       "      <td>...</td>\n",
       "      <td>...</td>\n",
       "      <td>...</td>\n",
       "      <td>...</td>\n",
       "    </tr>\n",
       "    <tr>\n",
       "      <th>3145</th>\n",
       "      <td>3263831000016006011</td>\n",
       "      <td>ITTIFAQ STEEL 14mm, 12 meter</td>\n",
       "      <td>30.00</td>\n",
       "      <td>69000.00</td>\n",
       "      <td>3263831000016006001</td>\n",
       "      <td>3.263831e+18</td>\n",
       "      <td>SAR</td>\n",
       "      <td>3263831000000034003</td>\n",
       "      <td>3.263831e+18</td>\n",
       "      <td>NaN</td>\n",
       "      <td>0.0</td>\n",
       "      <td>2300.0</td>\n",
       "      <td>0.0</td>\n",
       "      <td>False</td>\n",
       "      <td>[ITTIFAQ, STEEL, 14mm,, 12, meter]</td>\n",
       "      <td>[English, English, English, English, English]</td>\n",
       "      <td>Material</td>\n",
       "    </tr>\n",
       "    <tr>\n",
       "      <th>3146</th>\n",
       "      <td>3263831000016006009</td>\n",
       "      <td>ITTIFAQ STEEL 12mm, 12 meter</td>\n",
       "      <td>30.00</td>\n",
       "      <td>69000.00</td>\n",
       "      <td>3263831000016006001</td>\n",
       "      <td>3.263831e+18</td>\n",
       "      <td>SAR</td>\n",
       "      <td>3263831000000034003</td>\n",
       "      <td>3.263831e+18</td>\n",
       "      <td>NaN</td>\n",
       "      <td>0.0</td>\n",
       "      <td>2300.0</td>\n",
       "      <td>0.0</td>\n",
       "      <td>False</td>\n",
       "      <td>[ITTIFAQ, STEEL, 12mm,, 12, meter]</td>\n",
       "      <td>[English, English, English, English, English]</td>\n",
       "      <td>Material</td>\n",
       "    </tr>\n",
       "    <tr>\n",
       "      <th>3147</th>\n",
       "      <td>3263831000016208289</td>\n",
       "      <td>حديد تسليح مجدول سعودي سابك 16 مم * 12 م</td>\n",
       "      <td>30.00</td>\n",
       "      <td>69000.00</td>\n",
       "      <td>3263831000016208283</td>\n",
       "      <td>3.263831e+18</td>\n",
       "      <td>SAR</td>\n",
       "      <td>3263831000000034003</td>\n",
       "      <td>3.263831e+18</td>\n",
       "      <td>NaN</td>\n",
       "      <td>0.0</td>\n",
       "      <td>2300.0</td>\n",
       "      <td>0.0</td>\n",
       "      <td>False</td>\n",
       "      <td>[حديد, تسليح, مجدول, سعودي, سابك, 16, مم, *, 1...</td>\n",
       "      <td>[Arabic, Arabic, Arabic, Arabic, Arabic, Engli...</td>\n",
       "      <td>Material</td>\n",
       "    </tr>\n",
       "    <tr>\n",
       "      <th>3148</th>\n",
       "      <td>3263831000016208285</td>\n",
       "      <td>حديد تسليح مجدول سعودي سابك 12 مم * 12 م</td>\n",
       "      <td>30.00</td>\n",
       "      <td>69000.00</td>\n",
       "      <td>3263831000016208283</td>\n",
       "      <td>3.263831e+18</td>\n",
       "      <td>SAR</td>\n",
       "      <td>3263831000000034003</td>\n",
       "      <td>3.263831e+18</td>\n",
       "      <td>NaN</td>\n",
       "      <td>0.0</td>\n",
       "      <td>2300.0</td>\n",
       "      <td>0.0</td>\n",
       "      <td>False</td>\n",
       "      <td>[حديد, تسليح, مجدول, سعودي, سابك, 12, مم, *, 1...</td>\n",
       "      <td>[Arabic, Arabic, Arabic, Arabic, Arabic, Engli...</td>\n",
       "      <td>Material</td>\n",
       "    </tr>\n",
       "    <tr>\n",
       "      <th>3149</th>\n",
       "      <td>3263831000018023011</td>\n",
       "      <td>حديد تسليح مجدول سعودي سابك 16 مم * 12 م</td>\n",
       "      <td>30.00</td>\n",
       "      <td>69000.00</td>\n",
       "      <td>3263831000018023005</td>\n",
       "      <td>3.263831e+18</td>\n",
       "      <td>SAR</td>\n",
       "      <td>3263831000000034003</td>\n",
       "      <td>3.263831e+18</td>\n",
       "      <td>NaN</td>\n",
       "      <td>0.0</td>\n",
       "      <td>2300.0</td>\n",
       "      <td>0.0</td>\n",
       "      <td>False</td>\n",
       "      <td>[حديد, تسليح, مجدول, سعودي, سابك, 16, مم, *, 1...</td>\n",
       "      <td>[Arabic, Arabic, Arabic, Arabic, Arabic, Engli...</td>\n",
       "      <td>Material</td>\n",
       "    </tr>\n",
       "  </tbody>\n",
       "</table>\n",
       "<p>3146 rows × 17 columns</p>\n",
       "</div>"
      ],
      "text/plain": [
       "                  Item ID                                 Item Name  Quantity  \\\n",
       "0     3263831000000089042                           Unknown Product     75.21   \n",
       "1     3263831000000089046                           Unknown Product     15.00   \n",
       "2     3263831000000089044                           Unknown Product     50.00   \n",
       "3     3263831000000092044                           Unknown Product     12.00   \n",
       "4     3263831000000092052                           Unknown Product      2.00   \n",
       "...                   ...                                       ...       ...   \n",
       "3145  3263831000016006011              ITTIFAQ STEEL 14mm, 12 meter     30.00   \n",
       "3146  3263831000016006009              ITTIFAQ STEEL 12mm, 12 meter     30.00   \n",
       "3147  3263831000016208289  حديد تسليح مجدول سعودي سابك 16 مم * 12 م     30.00   \n",
       "3148  3263831000016208285  حديد تسليح مجدول سعودي سابك 12 مم * 12 م     30.00   \n",
       "3149  3263831000018023011  حديد تسليح مجدول سعودي سابك 16 مم * 12 م     30.00   \n",
       "\n",
       "      Total Bcy    Purchase Order ID    Product ID Currency Code  \\\n",
       "0     227510.25  3263831000000089040           NaN           SAR   \n",
       "1      47250.00  3263831000000089040           NaN           SAR   \n",
       "2     160000.00  3263831000000089040           NaN           SAR   \n",
       "3      38280.00  3263831000000092040           NaN           SAR   \n",
       "4       5900.00  3263831000000092040           NaN           SAR   \n",
       "...         ...                  ...           ...           ...   \n",
       "3145   69000.00  3263831000016006001  3.263831e+18           SAR   \n",
       "3146   69000.00  3263831000016006001  3.263831e+18           SAR   \n",
       "3147   69000.00  3263831000016208283  3.263831e+18           SAR   \n",
       "3148   69000.00  3263831000016208283  3.263831e+18           SAR   \n",
       "3149   69000.00  3263831000018023005  3.263831e+18           SAR   \n",
       "\n",
       "               Account ID        Tax ID  Project ID  Difference  Unit Price  \\\n",
       "0     3263831000000034003  3.263831e+18         NaN         0.0      3025.0   \n",
       "1     3263831000000034003  3.263831e+18         NaN         0.0      3150.0   \n",
       "2     3263831000000034003  3.263831e+18         NaN         0.0      3200.0   \n",
       "3     3263831000000034003  3.263831e+18         NaN         0.0      3190.0   \n",
       "4     3263831000000034003  3.263831e+18         NaN         0.0      2950.0   \n",
       "...                   ...           ...         ...         ...         ...   \n",
       "3145  3263831000000034003  3.263831e+18         NaN         0.0      2300.0   \n",
       "3146  3263831000000034003  3.263831e+18         NaN         0.0      2300.0   \n",
       "3147  3263831000000034003  3.263831e+18         NaN         0.0      2300.0   \n",
       "3148  3263831000000034003  3.263831e+18         NaN         0.0      2300.0   \n",
       "3149  3263831000000034003  3.263831e+18         NaN         0.0      2300.0   \n",
       "\n",
       "      Pct_Diff  Zero_Value                                             Tokens  \\\n",
       "0          0.0       False                                 [Unknown, Product]   \n",
       "1          0.0       False                                 [Unknown, Product]   \n",
       "2          0.0       False                                 [Unknown, Product]   \n",
       "3          0.0       False                                 [Unknown, Product]   \n",
       "4          0.0       False                                 [Unknown, Product]   \n",
       "...        ...         ...                                                ...   \n",
       "3145       0.0       False                 [ITTIFAQ, STEEL, 14mm,, 12, meter]   \n",
       "3146       0.0       False                 [ITTIFAQ, STEEL, 12mm,, 12, meter]   \n",
       "3147       0.0       False  [حديد, تسليح, مجدول, سعودي, سابك, 16, مم, *, 1...   \n",
       "3148       0.0       False  [حديد, تسليح, مجدول, سعودي, سابك, 12, مم, *, 1...   \n",
       "3149       0.0       False  [حديد, تسليح, مجدول, سعودي, سابك, 16, مم, *, 1...   \n",
       "\n",
       "                                            Lang_Tokens  Category  \n",
       "0                                    [English, English]  Material  \n",
       "1                                    [English, English]  Material  \n",
       "2                                    [English, English]  Material  \n",
       "3                                    [English, English]  Material  \n",
       "4                                    [English, English]  Material  \n",
       "...                                                 ...       ...  \n",
       "3145      [English, English, English, English, English]  Material  \n",
       "3146      [English, English, English, English, English]  Material  \n",
       "3147  [Arabic, Arabic, Arabic, Arabic, Arabic, Engli...  Material  \n",
       "3148  [Arabic, Arabic, Arabic, Arabic, Arabic, Engli...  Material  \n",
       "3149  [Arabic, Arabic, Arabic, Arabic, Arabic, Engli...  Material  \n",
       "\n",
       "[3146 rows x 17 columns]"
      ]
     },
     "execution_count": 172,
     "metadata": {},
     "output_type": "execute_result"
    }
   ],
   "source": [
    "df"
   ]
  },
  {
   "cell_type": "code",
   "execution_count": null,
   "id": "0b537430",
   "metadata": {},
   "outputs": [],
   "source": []
  }
 ],
 "metadata": {
  "kernelspec": {
   "display_name": "Python 3",
   "language": "python",
   "name": "python3"
  },
  "language_info": {
   "codemirror_mode": {
    "name": "ipython",
    "version": 3
   },
   "file_extension": ".py",
   "mimetype": "text/x-python",
   "name": "python",
   "nbconvert_exporter": "python",
   "pygments_lexer": "ipython3",
   "version": "3.11.0"
  }
 },
 "nbformat": 4,
 "nbformat_minor": 5
}
